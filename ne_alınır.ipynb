{
  "nbformat": 4,
  "nbformat_minor": 0,
  "metadata": {
    "colab": {
      "provenance": [],
      "authorship_tag": "ABX9TyNftGhVmB6sOcy7s+U4hD7S",
      "include_colab_link": true
    },
    "kernelspec": {
      "name": "python3",
      "display_name": "Python 3"
    },
    "language_info": {
      "name": "python"
    }
  },
  "cells": [
    {
      "cell_type": "markdown",
      "metadata": {
        "id": "view-in-github",
        "colab_type": "text"
      },
      "source": [
        "<a href=\"https://colab.research.google.com/github/EmirE21/CoddyProjeleri/blob/main/ne_al%C4%B1n%C4%B1r.ipynb\" target=\"_parent\"><img src=\"https://colab.research.google.com/assets/colab-badge.svg\" alt=\"Open In Colab\"/></a>"
      ]
    },
    {
      "cell_type": "code",
      "execution_count": null,
      "metadata": {
        "id": "f_tiF1jr8s4H"
      },
      "outputs": [],
      "source": [
        "prices = input().split(\",\")\n",
        "items = input().split(\",\")\n",
        "border = int(input())\n",
        "\n",
        "affordable_items = []\n",
        "required_amount = 0\n",
        "cant_buy_number = 0\n",
        "for i in range(len(prices)):\n",
        "  if border >= int(prices[i]):\n",
        "    affordable_items.append(items[i])\n",
        "    required_amount += int(prices[i])\n",
        "  else:\n",
        "    cant_buy_number = len(items) - len(affordable_items)\n",
        "print(f\"Can buy: {affordable_items}\")\n",
        "print(f\"Required amount: {required_amount}\")\n",
        "print(f\"Can't buy: {cant_buy_number}\")"
      ]
    }
  ]
}