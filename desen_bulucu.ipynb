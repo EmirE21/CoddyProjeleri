{
  "nbformat": 4,
  "nbformat_minor": 0,
  "metadata": {
    "colab": {
      "provenance": [],
      "authorship_tag": "ABX9TyNk73XKCmrwWwJU8iNd/uml",
      "include_colab_link": true
    },
    "kernelspec": {
      "name": "python3",
      "display_name": "Python 3"
    },
    "language_info": {
      "name": "python"
    }
  },
  "cells": [
    {
      "cell_type": "markdown",
      "metadata": {
        "id": "view-in-github",
        "colab_type": "text"
      },
      "source": [
        "<a href=\"https://colab.research.google.com/github/EmirE21/CoddyProjeleri/blob/main/desen_bulucu.ipynb\" target=\"_parent\"><img src=\"https://colab.research.google.com/assets/colab-badge.svg\" alt=\"Open In Colab\"/></a>"
      ]
    },
    {
      "cell_type": "code",
      "execution_count": null,
      "metadata": {
        "id": "f_tiF1jr8s4H"
      },
      "outputs": [],
      "source": [
        "def find_occurrences(text, pattern):\n",
        "  count = 0\n",
        "  positions = []\n",
        "  text_length = len(text)\n",
        "  pattern_length = len(pattern)\n",
        "  for i in range(text_length - pattern_length + 1):\n",
        "    if text[i:i + pattern_length] == pattern:\n",
        "      count += 1\n",
        "      positions.append(i)\n",
        "  if count > 0:\n",
        "    print(True, count, positions)\n",
        "  else:\n",
        "    print(False, 0, [])\n",
        "text = input()\n",
        "pattern = input()\n",
        "find_occurrences(text, pattern)"
      ]
    }
  ]
}