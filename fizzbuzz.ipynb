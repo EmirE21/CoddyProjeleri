{
  "nbformat": 4,
  "nbformat_minor": 0,
  "metadata": {
    "colab": {
      "provenance": [],
      "authorship_tag": "ABX9TyNIAb6cUVjcyEIs09ZyzAfV",
      "include_colab_link": true
    },
    "kernelspec": {
      "name": "python3",
      "display_name": "Python 3"
    },
    "language_info": {
      "name": "python"
    }
  },
  "cells": [
    {
      "cell_type": "markdown",
      "metadata": {
        "id": "view-in-github",
        "colab_type": "text"
      },
      "source": [
        "<a href=\"https://colab.research.google.com/github/EmirE21/CoddyProjeleri/blob/main/fizzbuzz.ipynb\" target=\"_parent\"><img src=\"https://colab.research.google.com/assets/colab-badge.svg\" alt=\"Open In Colab\"/></a>"
      ]
    },
    {
      "cell_type": "code",
      "execution_count": null,
      "metadata": {
        "id": "f_tiF1jr8s4H"
      },
      "outputs": [],
      "source": [
        "print(\"Welcome to FizzBuzz!\")\n",
        "def fizzbuzz(num):\n",
        "  for num in range(1, num + 1):\n",
        "    if num % 3 == 0:\n",
        "      print(\"Fizz\")\n",
        "    elif num % 7 == 0:\n",
        "      print(\"Buzz\")\n",
        "    elif  num % 7 == 0 and num % 3 == 0:\n",
        "      print(\"FizzBuzz\")\n",
        "    else:\n",
        "      print(str(num))\n",
        "num = int(input())\n",
        "fizzbuzz(num)"
      ]
    }
  ]
}